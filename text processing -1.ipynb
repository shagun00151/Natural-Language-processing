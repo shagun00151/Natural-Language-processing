{
 "cells": [
  {
   "cell_type": "code",
   "execution_count": 1,
   "id": "dd5939c8",
   "metadata": {},
   "outputs": [
    {
     "name": "stdout",
     "output_type": "stream",
     "text": [
      "Requirement already satisfied: nltk in s:\\ana\\lib\\site-packages (3.7)\n",
      "Requirement already satisfied: tqdm in s:\\ana\\lib\\site-packages (from nltk) (4.64.1)\n",
      "Requirement already satisfied: click in s:\\ana\\lib\\site-packages (from nltk) (8.0.4)\n",
      "Requirement already satisfied: regex>=2021.8.3 in s:\\ana\\lib\\site-packages (from nltk) (2022.7.9)\n",
      "Requirement already satisfied: joblib in s:\\ana\\lib\\site-packages (from nltk) (1.1.0)\n",
      "Requirement already satisfied: colorama in s:\\ana\\lib\\site-packages (from click->nltk) (0.4.5)\n"
     ]
    },
    {
     "name": "stderr",
     "output_type": "stream",
     "text": [
      "WARNING: Ignoring invalid distribution -rotobuf (s:\\ana\\lib\\site-packages)\n",
      "WARNING: Ignoring invalid distribution -rotobuf (s:\\ana\\lib\\site-packages)\n",
      "WARNING: Ignoring invalid distribution -rotobuf (s:\\ana\\lib\\site-packages)\n",
      "WARNING: Ignoring invalid distribution -rotobuf (s:\\ana\\lib\\site-packages)\n",
      "WARNING: Ignoring invalid distribution -rotobuf (s:\\ana\\lib\\site-packages)\n",
      "WARNING: Ignoring invalid distribution -rotobuf (s:\\ana\\lib\\site-packages)\n"
     ]
    }
   ],
   "source": [
    "!pip install nltk"
   ]
  },
  {
   "cell_type": "code",
   "execution_count": 2,
   "id": "1143124d",
   "metadata": {},
   "outputs": [],
   "source": [
    "paragraph = \"Modi was born and raised in Vadnagar in northeastern Gujarat, where he completed his secondary education. He was introduced to the RSS at age eight. He has reminisced about helping out after school at his father's tea stall at the Vadnagar railway station. At age 18, Modi was married to Jashodaben Chimanlal Modi, whom he abandoned soon after. He first publicly acknowledged her as his wife more than four decades later when required to do so by Indian law, but has made no contact with her since. Modi has asserted he had travelled in northern India for two years after leaving his parental home, visiting a number of religious centres, but few details of his travels have emerged. Upon his return to Gujarat in 1971, he became a full-time worker for the RSS. After the state of emergency was declared by prime minister Indira Gandhi in 1975, Modi went into hiding. The RSS assigned him to the BJP in 1985 and he held several positions within the party hierarchy until 2001, rising to the rank of general secretary\""
   ]
  },
  {
   "cell_type": "code",
   "execution_count": 3,
   "id": "b48cf1f0",
   "metadata": {},
   "outputs": [
    {
     "data": {
      "text/plain": [
       "\"Modi was born and raised in Vadnagar in northeastern Gujarat, where he completed his secondary education. He was introduced to the RSS at age eight. He has reminisced about helping out after school at his father's tea stall at the Vadnagar railway station. At age 18, Modi was married to Jashodaben Chimanlal Modi, whom he abandoned soon after. He first publicly acknowledged her as his wife more than four decades later when required to do so by Indian law, but has made no contact with her since. Modi has asserted he had travelled in northern India for two years after leaving his parental home, visiting a number of religious centres, but few details of his travels have emerged. Upon his return to Gujarat in 1971, he became a full-time worker for the RSS. After the state of emergency was declared by prime minister Indira Gandhi in 1975, Modi went into hiding. The RSS assigned him to the BJP in 1985 and he held several positions within the party hierarchy until 2001, rising to the rank of general secretary\""
      ]
     },
     "execution_count": 3,
     "metadata": {},
     "output_type": "execute_result"
    }
   ],
   "source": [
    "paragraph"
   ]
  },
  {
   "cell_type": "code",
   "execution_count": 4,
   "id": "3ea508af",
   "metadata": {},
   "outputs": [],
   "source": [
    "import nltk\n",
    "# for stemming process we use the library callled porterstemmer\n",
    "from nltk.stem import PorterStemmer"
   ]
  },
  {
   "cell_type": "code",
   "execution_count": 5,
   "id": "f44e175d",
   "metadata": {},
   "outputs": [],
   "source": [
    "from nltk.corpus import stopwords"
   ]
  },
  {
   "cell_type": "code",
   "execution_count": 6,
   "id": "cb2416d6",
   "metadata": {},
   "outputs": [
    {
     "name": "stderr",
     "output_type": "stream",
     "text": [
      "[nltk_data] Downloading package punkt to\n",
      "[nltk_data]     C:\\Users\\sid80\\AppData\\Roaming\\nltk_data...\n",
      "[nltk_data]   Package punkt is already up-to-date!\n"
     ]
    }
   ],
   "source": [
    "# tokenization - sentence into words\n",
    "nltk.download('punkt')\n",
    "sentences = nltk.sent_tokenize(paragraph)"
   ]
  },
  {
   "cell_type": "code",
   "execution_count": 7,
   "id": "b3be00ce",
   "metadata": {},
   "outputs": [
    {
     "data": {
      "text/plain": [
       "str"
      ]
     },
     "execution_count": 7,
     "metadata": {},
     "output_type": "execute_result"
    }
   ],
   "source": [
    "type(paragraph)"
   ]
  },
  {
   "cell_type": "code",
   "execution_count": 8,
   "id": "966b963a",
   "metadata": {},
   "outputs": [
    {
     "data": {
      "text/plain": [
       "list"
      ]
     },
     "execution_count": 8,
     "metadata": {},
     "output_type": "execute_result"
    }
   ],
   "source": [
    "type(sentences)"
   ]
  },
  {
   "cell_type": "code",
   "execution_count": 9,
   "id": "0cce38c4",
   "metadata": {},
   "outputs": [],
   "source": [
    "stemmer = PorterStemmer()"
   ]
  },
  {
   "cell_type": "code",
   "execution_count": 10,
   "id": "b5c82e57",
   "metadata": {},
   "outputs": [
    {
     "data": {
      "text/plain": [
       "'go'"
      ]
     },
     "execution_count": 10,
     "metadata": {},
     "output_type": "execute_result"
    }
   ],
   "source": [
    "stemmer.stem('going')"
   ]
  },
  {
   "cell_type": "code",
   "execution_count": 11,
   "id": "d1930301",
   "metadata": {},
   "outputs": [
    {
     "data": {
      "text/plain": [
       "'drink'"
      ]
     },
     "execution_count": 11,
     "metadata": {},
     "output_type": "execute_result"
    }
   ],
   "source": [
    "stemmer.stem('drinking')"
   ]
  },
  {
   "cell_type": "code",
   "execution_count": 12,
   "id": "a36978ee",
   "metadata": {},
   "outputs": [
    {
     "data": {
      "text/plain": [
       "'travel'"
      ]
     },
     "execution_count": 12,
     "metadata": {},
     "output_type": "execute_result"
    }
   ],
   "source": [
    "stemmer.stem('travelling')"
   ]
  },
  {
   "cell_type": "code",
   "execution_count": 13,
   "id": "99d5b6e5",
   "metadata": {},
   "outputs": [],
   "source": [
    "from nltk.stem import WordNetLemmatizer"
   ]
  },
  {
   "cell_type": "code",
   "execution_count": 14,
   "id": "653adbed",
   "metadata": {},
   "outputs": [],
   "source": [
    "# lammmetizer helps us to find out the very good and propper base words from the paragraph"
   ]
  },
  {
   "cell_type": "code",
   "execution_count": 15,
   "id": "42056b19",
   "metadata": {},
   "outputs": [
    {
     "name": "stderr",
     "output_type": "stream",
     "text": [
      "[nltk_data] Downloading package wordnet to\n",
      "[nltk_data]     C:\\Users\\sid80\\AppData\\Roaming\\nltk_data...\n",
      "[nltk_data]   Package wordnet is already up-to-date!\n"
     ]
    },
    {
     "data": {
      "text/plain": [
       "True"
      ]
     },
     "execution_count": 15,
     "metadata": {},
     "output_type": "execute_result"
    }
   ],
   "source": [
    "nltk.download('wordnet')"
   ]
  },
  {
   "cell_type": "code",
   "execution_count": 16,
   "id": "54eefbb2",
   "metadata": {},
   "outputs": [],
   "source": [
    "lemmatizer = WordNetLemmatizer()"
   ]
  },
  {
   "cell_type": "code",
   "execution_count": 17,
   "id": "731a3b5f",
   "metadata": {},
   "outputs": [],
   "source": [
    "# task 1 is to remove the regular expression and symbols from the data."
   ]
  },
  {
   "cell_type": "code",
   "execution_count": 18,
   "id": "23afa81f",
   "metadata": {},
   "outputs": [],
   "source": [
    "import re "
   ]
  },
  {
   "cell_type": "code",
   "execution_count": 19,
   "id": "9c2c771b",
   "metadata": {},
   "outputs": [],
   "source": [
    "corpus = []\n",
    "for i in range(len(sentences)):\n",
    "    review = re.sub('[^a-zA-Z]',' ',sentences[i])\n",
    "    review = review.lower()\n",
    "    corpus.append(review)"
   ]
  },
  {
   "cell_type": "code",
   "execution_count": 20,
   "id": "aed2870e",
   "metadata": {},
   "outputs": [
    {
     "data": {
      "text/plain": [
       "['modi was born and raised in vadnagar in northeastern gujarat  where he completed his secondary education ',\n",
       " 'he was introduced to the rss at age eight ',\n",
       " 'he has reminisced about helping out after school at his father s tea stall at the vadnagar railway station ',\n",
       " 'at age     modi was married to jashodaben chimanlal modi  whom he abandoned soon after ',\n",
       " 'he first publicly acknowledged her as his wife more than four decades later when required to do so by indian law  but has made no contact with her since ',\n",
       " 'modi has asserted he had travelled in northern india for two years after leaving his parental home  visiting a number of religious centres  but few details of his travels have emerged ',\n",
       " 'upon his return to gujarat in       he became a full time worker for the rss ',\n",
       " 'after the state of emergency was declared by prime minister indira gandhi in       modi went into hiding ',\n",
       " 'the rss assigned him to the bjp in      and he held several positions within the party hierarchy until       rising to the rank of general secretary']"
      ]
     },
     "execution_count": 20,
     "metadata": {},
     "output_type": "execute_result"
    }
   ],
   "source": [
    "corpus"
   ]
  },
  {
   "cell_type": "code",
   "execution_count": 21,
   "id": "1cdcea68",
   "metadata": {},
   "outputs": [
    {
     "name": "stdout",
     "output_type": "stream",
     "text": [
      "modi\n",
      "born\n",
      "rais\n",
      "vadnagar\n",
      "northeastern\n",
      "gujarat\n",
      "complet\n",
      "secondari\n",
      "educ\n",
      "introduc\n",
      "rss\n",
      "age\n",
      "eight\n",
      "reminisc\n",
      "help\n",
      "school\n",
      "father\n",
      "tea\n",
      "stall\n",
      "vadnagar\n",
      "railway\n",
      "station\n",
      "age\n",
      "modi\n",
      "marri\n",
      "jashodaben\n",
      "chimanl\n",
      "modi\n",
      "abandon\n",
      "soon\n",
      "first\n",
      "publicli\n",
      "acknowledg\n",
      "wife\n",
      "four\n",
      "decad\n",
      "later\n",
      "requir\n",
      "indian\n",
      "law\n",
      "made\n",
      "contact\n",
      "sinc\n",
      "modi\n",
      "assert\n",
      "travel\n",
      "northern\n",
      "india\n",
      "two\n",
      "year\n",
      "leav\n",
      "parent\n",
      "home\n",
      "visit\n",
      "number\n",
      "religi\n",
      "centr\n",
      "detail\n",
      "travel\n",
      "emerg\n",
      "upon\n",
      "return\n",
      "gujarat\n",
      "becam\n",
      "full\n",
      "time\n",
      "worker\n",
      "rss\n",
      "state\n",
      "emerg\n",
      "declar\n",
      "prime\n",
      "minist\n",
      "indira\n",
      "gandhi\n",
      "modi\n",
      "went\n",
      "hide\n",
      "rss\n",
      "assign\n",
      "bjp\n",
      "held\n",
      "sever\n",
      "posit\n",
      "within\n",
      "parti\n",
      "hierarchi\n",
      "rise\n",
      "rank\n",
      "gener\n",
      "secretari\n"
     ]
    }
   ],
   "source": [
    "# task 2 - stemming\n",
    "for i in corpus:\n",
    "    words = nltk.word_tokenize(i)\n",
    "    for word in words:\n",
    "        if word not in set(stopwords.words('english')):\n",
    "            print(stemmer.stem(word))"
   ]
  },
  {
   "cell_type": "code",
   "execution_count": 22,
   "id": "011735ab",
   "metadata": {},
   "outputs": [
    {
     "data": {
      "text/plain": [
       "['i',\n",
       " 'me',\n",
       " 'my',\n",
       " 'myself',\n",
       " 'we',\n",
       " 'our',\n",
       " 'ours',\n",
       " 'ourselves',\n",
       " 'you',\n",
       " \"you're\",\n",
       " \"you've\",\n",
       " \"you'll\",\n",
       " \"you'd\",\n",
       " 'your',\n",
       " 'yours',\n",
       " 'yourself',\n",
       " 'yourselves',\n",
       " 'he',\n",
       " 'him',\n",
       " 'his',\n",
       " 'himself',\n",
       " 'she',\n",
       " \"she's\",\n",
       " 'her',\n",
       " 'hers',\n",
       " 'herself',\n",
       " 'it',\n",
       " \"it's\",\n",
       " 'its',\n",
       " 'itself',\n",
       " 'they',\n",
       " 'them',\n",
       " 'their',\n",
       " 'theirs',\n",
       " 'themselves',\n",
       " 'what',\n",
       " 'which',\n",
       " 'who',\n",
       " 'whom',\n",
       " 'this',\n",
       " 'that',\n",
       " \"that'll\",\n",
       " 'these',\n",
       " 'those',\n",
       " 'am',\n",
       " 'is',\n",
       " 'are',\n",
       " 'was',\n",
       " 'were',\n",
       " 'be',\n",
       " 'been',\n",
       " 'being',\n",
       " 'have',\n",
       " 'has',\n",
       " 'had',\n",
       " 'having',\n",
       " 'do',\n",
       " 'does',\n",
       " 'did',\n",
       " 'doing',\n",
       " 'a',\n",
       " 'an',\n",
       " 'the',\n",
       " 'and',\n",
       " 'but',\n",
       " 'if',\n",
       " 'or',\n",
       " 'because',\n",
       " 'as',\n",
       " 'until',\n",
       " 'while',\n",
       " 'of',\n",
       " 'at',\n",
       " 'by',\n",
       " 'for',\n",
       " 'with',\n",
       " 'about',\n",
       " 'against',\n",
       " 'between',\n",
       " 'into',\n",
       " 'through',\n",
       " 'during',\n",
       " 'before',\n",
       " 'after',\n",
       " 'above',\n",
       " 'below',\n",
       " 'to',\n",
       " 'from',\n",
       " 'up',\n",
       " 'down',\n",
       " 'in',\n",
       " 'out',\n",
       " 'on',\n",
       " 'off',\n",
       " 'over',\n",
       " 'under',\n",
       " 'again',\n",
       " 'further',\n",
       " 'then',\n",
       " 'once',\n",
       " 'here',\n",
       " 'there',\n",
       " 'when',\n",
       " 'where',\n",
       " 'why',\n",
       " 'how',\n",
       " 'all',\n",
       " 'any',\n",
       " 'both',\n",
       " 'each',\n",
       " 'few',\n",
       " 'more',\n",
       " 'most',\n",
       " 'other',\n",
       " 'some',\n",
       " 'such',\n",
       " 'no',\n",
       " 'nor',\n",
       " 'not',\n",
       " 'only',\n",
       " 'own',\n",
       " 'same',\n",
       " 'so',\n",
       " 'than',\n",
       " 'too',\n",
       " 'very',\n",
       " 's',\n",
       " 't',\n",
       " 'can',\n",
       " 'will',\n",
       " 'just',\n",
       " 'don',\n",
       " \"don't\",\n",
       " 'should',\n",
       " \"should've\",\n",
       " 'now',\n",
       " 'd',\n",
       " 'll',\n",
       " 'm',\n",
       " 'o',\n",
       " 're',\n",
       " 've',\n",
       " 'y',\n",
       " 'ain',\n",
       " 'aren',\n",
       " \"aren't\",\n",
       " 'couldn',\n",
       " \"couldn't\",\n",
       " 'didn',\n",
       " \"didn't\",\n",
       " 'doesn',\n",
       " \"doesn't\",\n",
       " 'hadn',\n",
       " \"hadn't\",\n",
       " 'hasn',\n",
       " \"hasn't\",\n",
       " 'haven',\n",
       " \"haven't\",\n",
       " 'isn',\n",
       " \"isn't\",\n",
       " 'ma',\n",
       " 'mightn',\n",
       " \"mightn't\",\n",
       " 'mustn',\n",
       " \"mustn't\",\n",
       " 'needn',\n",
       " \"needn't\",\n",
       " 'shan',\n",
       " \"shan't\",\n",
       " 'shouldn',\n",
       " \"shouldn't\",\n",
       " 'wasn',\n",
       " \"wasn't\",\n",
       " 'weren',\n",
       " \"weren't\",\n",
       " 'won',\n",
       " \"won't\",\n",
       " 'wouldn',\n",
       " \"wouldn't\"]"
      ]
     },
     "execution_count": 22,
     "metadata": {},
     "output_type": "execute_result"
    }
   ],
   "source": [
    "stopwords.words('english')"
   ]
  },
  {
   "cell_type": "code",
   "execution_count": 23,
   "id": "e0ea2f37",
   "metadata": {},
   "outputs": [
    {
     "name": "stderr",
     "output_type": "stream",
     "text": [
      "[nltk_data] Downloading package omw-1.4 to\n",
      "[nltk_data]     C:\\Users\\sid80\\AppData\\Roaming\\nltk_data...\n",
      "[nltk_data]   Package omw-1.4 is already up-to-date!\n"
     ]
    },
    {
     "data": {
      "text/plain": [
       "True"
      ]
     },
     "execution_count": 23,
     "metadata": {},
     "output_type": "execute_result"
    }
   ],
   "source": [
    "nltk.download('omw-1.4')"
   ]
  },
  {
   "cell_type": "code",
   "execution_count": 24,
   "id": "8314b697",
   "metadata": {},
   "outputs": [
    {
     "name": "stdout",
     "output_type": "stream",
     "text": [
      "modi\n",
      "born\n",
      "raised\n",
      "vadnagar\n",
      "northeastern\n",
      "gujarat\n",
      "completed\n",
      "secondary\n",
      "education\n",
      "introduced\n",
      "r\n",
      "age\n",
      "eight\n",
      "reminisced\n",
      "helping\n",
      "school\n",
      "father\n",
      "tea\n",
      "stall\n",
      "vadnagar\n",
      "railway\n",
      "station\n",
      "age\n",
      "modi\n",
      "married\n",
      "jashodaben\n",
      "chimanlal\n",
      "modi\n",
      "abandoned\n",
      "soon\n",
      "first\n",
      "publicly\n",
      "acknowledged\n",
      "wife\n",
      "four\n",
      "decade\n",
      "later\n",
      "required\n",
      "indian\n",
      "law\n",
      "made\n",
      "contact\n",
      "since\n",
      "modi\n",
      "asserted\n",
      "travelled\n",
      "northern\n",
      "india\n",
      "two\n",
      "year\n",
      "leaving\n",
      "parental\n",
      "home\n",
      "visiting\n",
      "number\n",
      "religious\n",
      "centre\n",
      "detail\n",
      "travel\n",
      "emerged\n",
      "upon\n",
      "return\n",
      "gujarat\n",
      "became\n",
      "full\n",
      "time\n",
      "worker\n",
      "r\n",
      "state\n",
      "emergency\n",
      "declared\n",
      "prime\n",
      "minister\n",
      "indira\n",
      "gandhi\n",
      "modi\n",
      "went\n",
      "hiding\n",
      "r\n",
      "assigned\n",
      "bjp\n",
      "held\n",
      "several\n",
      "position\n",
      "within\n",
      "party\n",
      "hierarchy\n",
      "rising\n",
      "rank\n",
      "general\n",
      "secretary\n"
     ]
    }
   ],
   "source": [
    "# lemmatization\n",
    "for i in corpus:\n",
    "    words = nltk.word_tokenize(i)\n",
    "    for word in words:\n",
    "        if word not in set(stopwords.words('english')):\n",
    "            print(lemmatizer.lemmatize(word))"
   ]
  },
  {
   "cell_type": "code",
   "execution_count": 25,
   "id": "1c2204a2",
   "metadata": {},
   "outputs": [],
   "source": [
    "# task 2 - Bag of words\n",
    "from sklearn.feature_extraction.text import CountVectorizer\n",
    "cv = CountVectorizer(binary=True)\n",
    "# can also use ngram_range = 3,3"
   ]
  },
  {
   "cell_type": "code",
   "execution_count": 26,
   "id": "3cbdfe13",
   "metadata": {},
   "outputs": [],
   "source": [
    "X =  cv.fit_transform(corpus)"
   ]
  },
  {
   "cell_type": "code",
   "execution_count": 27,
   "id": "390dd820",
   "metadata": {},
   "outputs": [
    {
     "data": {
      "text/plain": [
       "{'modi': 61,\n",
       " 'was': 105,\n",
       " 'born': 12,\n",
       " 'and': 5,\n",
       " 'raised': 75,\n",
       " 'in': 48,\n",
       " 'vadnagar': 103,\n",
       " 'northeastern': 64,\n",
       " 'gujarat': 35,\n",
       " 'where': 108,\n",
       " 'he': 39,\n",
       " 'completed': 17,\n",
       " 'his': 46,\n",
       " 'secondary': 84,\n",
       " 'education': 23,\n",
       " 'introduced': 53,\n",
       " 'to': 97,\n",
       " 'the': 95,\n",
       " 'rss': 82,\n",
       " 'at': 9,\n",
       " 'age': 4,\n",
       " 'eight': 24,\n",
       " 'has': 37,\n",
       " 'reminisced': 78,\n",
       " 'about': 1,\n",
       " 'helping': 41,\n",
       " 'out': 68,\n",
       " 'after': 3,\n",
       " 'school': 83,\n",
       " 'father': 27,\n",
       " 'tea': 93,\n",
       " 'stall': 90,\n",
       " 'railway': 74,\n",
       " 'station': 92,\n",
       " 'married': 59,\n",
       " 'jashodaben': 54,\n",
       " 'chimanlal': 16,\n",
       " 'whom': 109,\n",
       " 'abandoned': 0,\n",
       " 'soon': 89,\n",
       " 'first': 29,\n",
       " 'publicly': 73,\n",
       " 'acknowledged': 2,\n",
       " 'her': 42,\n",
       " 'as': 6,\n",
       " 'wife': 110,\n",
       " 'more': 62,\n",
       " 'than': 94,\n",
       " 'four': 31,\n",
       " 'decades': 19,\n",
       " 'later': 55,\n",
       " 'when': 107,\n",
       " 'required': 79,\n",
       " 'do': 22,\n",
       " 'so': 88,\n",
       " 'by': 14,\n",
       " 'indian': 50,\n",
       " 'law': 56,\n",
       " 'but': 13,\n",
       " 'made': 58,\n",
       " 'no': 63,\n",
       " 'contact': 18,\n",
       " 'with': 111,\n",
       " 'since': 87,\n",
       " 'asserted': 7,\n",
       " 'had': 36,\n",
       " 'travelled': 98,\n",
       " 'northern': 65,\n",
       " 'india': 49,\n",
       " 'for': 30,\n",
       " 'two': 100,\n",
       " 'years': 114,\n",
       " 'leaving': 57,\n",
       " 'parental': 69,\n",
       " 'home': 47,\n",
       " 'visiting': 104,\n",
       " 'number': 66,\n",
       " 'of': 67,\n",
       " 'religious': 77,\n",
       " 'centres': 15,\n",
       " 'few': 28,\n",
       " 'details': 21,\n",
       " 'travels': 99,\n",
       " 'have': 38,\n",
       " 'emerged': 25,\n",
       " 'upon': 102,\n",
       " 'return': 80,\n",
       " 'became': 10,\n",
       " 'full': 32,\n",
       " 'time': 96,\n",
       " 'worker': 113,\n",
       " 'state': 91,\n",
       " 'emergency': 26,\n",
       " 'declared': 20,\n",
       " 'prime': 72,\n",
       " 'minister': 60,\n",
       " 'indira': 51,\n",
       " 'gandhi': 33,\n",
       " 'went': 106,\n",
       " 'into': 52,\n",
       " 'hiding': 43,\n",
       " 'assigned': 8,\n",
       " 'him': 45,\n",
       " 'bjp': 11,\n",
       " 'held': 40,\n",
       " 'several': 86,\n",
       " 'positions': 71,\n",
       " 'within': 112,\n",
       " 'party': 70,\n",
       " 'hierarchy': 44,\n",
       " 'until': 101,\n",
       " 'rising': 81,\n",
       " 'rank': 76,\n",
       " 'general': 34,\n",
       " 'secretary': 85}"
      ]
     },
     "execution_count": 27,
     "metadata": {},
     "output_type": "execute_result"
    }
   ],
   "source": [
    "cv.vocabulary_"
   ]
  },
  {
   "cell_type": "code",
   "execution_count": 28,
   "id": "164acd97",
   "metadata": {},
   "outputs": [
    {
     "data": {
      "text/plain": [
       "'modi was born and raised in vadnagar in northeastern gujarat  where he completed his secondary education '"
      ]
     },
     "execution_count": 28,
     "metadata": {},
     "output_type": "execute_result"
    }
   ],
   "source": [
    "corpus[0]"
   ]
  },
  {
   "cell_type": "code",
   "execution_count": 29,
   "id": "c75a7863",
   "metadata": {},
   "outputs": [
    {
     "data": {
      "text/plain": [
       "array([[0, 0, 0, 0, 0, 1, 0, 0, 0, 0, 0, 0, 1, 0, 0, 0, 0, 1, 0, 0, 0, 0,\n",
       "        0, 1, 0, 0, 0, 0, 0, 0, 0, 0, 0, 0, 0, 1, 0, 0, 0, 1, 0, 0, 0, 0,\n",
       "        0, 0, 1, 0, 1, 0, 0, 0, 0, 0, 0, 0, 0, 0, 0, 0, 0, 1, 0, 0, 1, 0,\n",
       "        0, 0, 0, 0, 0, 0, 0, 0, 0, 1, 0, 0, 0, 0, 0, 0, 0, 0, 1, 0, 0, 0,\n",
       "        0, 0, 0, 0, 0, 0, 0, 0, 0, 0, 0, 0, 0, 0, 0, 1, 0, 1, 0, 0, 1, 0,\n",
       "        0, 0, 0, 0, 0]], dtype=int64)"
      ]
     },
     "execution_count": 29,
     "metadata": {},
     "output_type": "execute_result"
    }
   ],
   "source": [
    "X[0].toarray()"
   ]
  },
  {
   "cell_type": "code",
   "execution_count": 30,
   "id": "a48d3600",
   "metadata": {},
   "outputs": [],
   "source": [
    "from sklearn.feature_extraction.text import TfidfVectorizer\n",
    "cv = TfidfVectorizer()\n",
    "X = cv.fit_transform(corpus)"
   ]
  },
  {
   "cell_type": "code",
   "execution_count": 31,
   "id": "e3c92c5a",
   "metadata": {},
   "outputs": [
    {
     "data": {
      "text/plain": [
       "'modi was born and raised in vadnagar in northeastern gujarat  where he completed his secondary education '"
      ]
     },
     "execution_count": 31,
     "metadata": {},
     "output_type": "execute_result"
    }
   ],
   "source": [
    "corpus[0]"
   ]
  },
  {
   "cell_type": "code",
   "execution_count": 33,
   "id": "736fe833",
   "metadata": {},
   "outputs": [
    {
     "data": {
      "text/plain": [
       "array([[0.        , 0.        , 0.        , 0.        , 0.        ,\n",
       "        0.24548525, 0.        , 0.        , 0.        , 0.        ,\n",
       "        0.        , 0.        , 0.2906472 , 0.        , 0.        ,\n",
       "        0.        , 0.        , 0.2906472 , 0.        , 0.        ,\n",
       "        0.        , 0.        , 0.        , 0.2906472 , 0.        ,\n",
       "        0.        , 0.        , 0.        , 0.        , 0.        ,\n",
       "        0.        , 0.        , 0.        , 0.        , 0.        ,\n",
       "        0.24548525, 0.        , 0.        , 0.        , 0.12311844,\n",
       "        0.        , 0.        , 0.        , 0.        , 0.        ,\n",
       "        0.        , 0.16828039, 0.        , 0.33656078, 0.        ,\n",
       "        0.        , 0.        , 0.        , 0.        , 0.        ,\n",
       "        0.        , 0.        , 0.        , 0.        , 0.        ,\n",
       "        0.        , 0.18858793, 0.        , 0.        , 0.2906472 ,\n",
       "        0.        , 0.        , 0.        , 0.        , 0.        ,\n",
       "        0.        , 0.        , 0.        , 0.        , 0.        ,\n",
       "        0.2906472 , 0.        , 0.        , 0.        , 0.        ,\n",
       "        0.        , 0.        , 0.        , 0.        , 0.2906472 ,\n",
       "        0.        , 0.        , 0.        , 0.        , 0.        ,\n",
       "        0.        , 0.        , 0.        , 0.        , 0.        ,\n",
       "        0.        , 0.        , 0.        , 0.        , 0.        ,\n",
       "        0.        , 0.        , 0.        , 0.24548525, 0.        ,\n",
       "        0.18858793, 0.        , 0.        , 0.2906472 , 0.        ,\n",
       "        0.        , 0.        , 0.        , 0.        , 0.        ]])"
      ]
     },
     "execution_count": 33,
     "metadata": {},
     "output_type": "execute_result"
    }
   ],
   "source": [
    "X[0].toarray()"
   ]
  },
  {
   "cell_type": "code",
   "execution_count": null,
   "id": "a834b6aa",
   "metadata": {},
   "outputs": [],
   "source": [
    "# here we can observe that some rare words in the sentence have some diffrent weightage values\n",
    "# we have also ngram range feature present in the code\n",
    "# have also feature of max_features in which we can use it "
   ]
  }
 ],
 "metadata": {
  "kernelspec": {
   "display_name": "Python 3 (ipykernel)",
   "language": "python",
   "name": "python3"
  },
  "language_info": {
   "codemirror_mode": {
    "name": "ipython",
    "version": 3
   },
   "file_extension": ".py",
   "mimetype": "text/x-python",
   "name": "python",
   "nbconvert_exporter": "python",
   "pygments_lexer": "ipython3",
   "version": "3.9.13"
  }
 },
 "nbformat": 4,
 "nbformat_minor": 5
}
