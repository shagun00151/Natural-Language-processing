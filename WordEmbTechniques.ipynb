{
  "nbformat": 4,
  "nbformat_minor": 0,
  "metadata": {
    "colab": {
      "provenance": [],
      "authorship_tag": "ABX9TyPBddn69Twtx3NTiU6DO9nz",
      "include_colab_link": true
    },
    "kernelspec": {
      "name": "python3",
      "display_name": "Python 3"
    },
    "language_info": {
      "name": "python"
    }
  },
  "cells": [
    {
      "cell_type": "markdown",
      "metadata": {
        "id": "view-in-github",
        "colab_type": "text"
      },
      "source": [
        "<a href=\"https://colab.research.google.com/github/shagun00151/Natural-Language-processing/blob/main/WordEmbTechniques.ipynb\" target=\"_parent\"><img src=\"https://colab.research.google.com/assets/colab-badge.svg\" alt=\"Open In Colab\"/></a>"
      ]
    },
    {
      "cell_type": "code",
      "execution_count": 1,
      "metadata": {
        "colab": {
          "base_uri": "https://localhost:8080/"
        },
        "id": "R5aGwufSzsIM",
        "outputId": "0e734f8f-6282-42c5-d93a-dc23d2a62597"
      },
      "outputs": [
        {
          "output_type": "stream",
          "name": "stdout",
          "text": [
            "Looking in indexes: https://pypi.org/simple, https://us-python.pkg.dev/colab-wheels/public/simple/\n",
            "Collecting tensorflow-gpu\n",
            "  Downloading tensorflow-gpu-2.12.0.tar.gz (2.6 kB)\n",
            "  Preparing metadata (setup.py) ... \u001b[?25l\u001b[?25hdone\n",
            "Collecting python_version>\"3.7\"\n",
            "  Downloading python_version-0.0.2-py2.py3-none-any.whl (3.4 kB)\n",
            "Building wheels for collected packages: tensorflow-gpu\n",
            "  \u001b[1;31merror\u001b[0m: \u001b[1msubprocess-exited-with-error\u001b[0m\n",
            "  \n",
            "  \u001b[31m×\u001b[0m \u001b[32mpython setup.py bdist_wheel\u001b[0m did not run successfully.\n",
            "  \u001b[31m│\u001b[0m exit code: \u001b[1;36m1\u001b[0m\n",
            "  \u001b[31m╰─>\u001b[0m See above for output.\n",
            "  \n",
            "  \u001b[1;35mnote\u001b[0m: This error originates from a subprocess, and is likely not a problem with pip.\n",
            "  Building wheel for tensorflow-gpu (setup.py) ... \u001b[?25lerror\n",
            "\u001b[31m  ERROR: Failed building wheel for tensorflow-gpu\u001b[0m\u001b[31m\n",
            "\u001b[0m\u001b[?25h  Running setup.py clean for tensorflow-gpu\n",
            "Failed to build tensorflow-gpu\n",
            "Installing collected packages: python_version, tensorflow-gpu\n",
            "  \u001b[1;31merror\u001b[0m: \u001b[1msubprocess-exited-with-error\u001b[0m\n",
            "  \n",
            "  \u001b[31m×\u001b[0m \u001b[32mRunning setup.py install for tensorflow-gpu\u001b[0m did not run successfully.\n",
            "  \u001b[31m│\u001b[0m exit code: \u001b[1;36m1\u001b[0m\n",
            "  \u001b[31m╰─>\u001b[0m See above for output.\n",
            "  \n",
            "  \u001b[1;35mnote\u001b[0m: This error originates from a subprocess, and is likely not a problem with pip.\n",
            "  Running setup.py install for tensorflow-gpu ... \u001b[?25l\u001b[?25herror\n",
            "\u001b[1;31merror\u001b[0m: \u001b[1mlegacy-install-failure\u001b[0m\n",
            "\n",
            "\u001b[31m×\u001b[0m Encountered error while trying to install package.\n",
            "\u001b[31m╰─>\u001b[0m tensorflow-gpu\n",
            "\n",
            "\u001b[1;35mnote\u001b[0m: This is an issue with the package mentioned above, not pip.\n",
            "\u001b[1;36mhint\u001b[0m: See above for output from the failure.\n"
          ]
        }
      ],
      "source": [
        "!pip install tensorflow-gpu"
      ]
    },
    {
      "cell_type": "code",
      "source": [
        "import tensorflow as tf"
      ],
      "metadata": {
        "id": "2qr_BoDM0KdD"
      },
      "execution_count": 2,
      "outputs": []
    },
    {
      "cell_type": "code",
      "source": [
        "print(tf.__version__)"
      ],
      "metadata": {
        "colab": {
          "base_uri": "https://localhost:8080/"
        },
        "id": "0Vr-iwNn0OfT",
        "outputId": "a7cb003c-aca8-42cc-d860-a0c17593c2cb"
      },
      "execution_count": 3,
      "outputs": [
        {
          "output_type": "stream",
          "name": "stdout",
          "text": [
            "2.11.0\n"
          ]
        }
      ]
    },
    {
      "cell_type": "code",
      "source": [
        "from tensorflow.keras.preprocessing.text import one_hot"
      ],
      "metadata": {
        "id": "uSV8q_qu0X0f"
      },
      "execution_count": 5,
      "outputs": []
    },
    {
      "cell_type": "code",
      "source": [
        "# sentences\n",
        "### sentences\n",
        "sent=[  'the glass of milk',\n",
        "     'the glass of juice',\n",
        "     'the cup of tea',\n",
        "    'I am a good boy',\n",
        "     'I am a good developer',\n",
        "     'understand the meaning of words',\n",
        "     'your videos are good']"
      ],
      "metadata": {
        "id": "GjPh_LJc0nPB"
      },
      "execution_count": 6,
      "outputs": []
    },
    {
      "cell_type": "code",
      "source": [
        "sent"
      ],
      "metadata": {
        "colab": {
          "base_uri": "https://localhost:8080/"
        },
        "id": "VLh-RGXz0xro",
        "outputId": "e644f4bd-5050-472a-846a-2f8878b9ca18"
      },
      "execution_count": 7,
      "outputs": [
        {
          "output_type": "execute_result",
          "data": {
            "text/plain": [
              "['the glass of milk',\n",
              " 'the glass of juice',\n",
              " 'the cup of tea',\n",
              " 'I am a good boy',\n",
              " 'I am a good developer',\n",
              " 'understand the meaning of words',\n",
              " 'your videos are good']"
            ]
          },
          "metadata": {},
          "execution_count": 7
        }
      ]
    },
    {
      "cell_type": "code",
      "source": [
        "## vocabulary size\n",
        "voc_size = 10000\n",
        "# your word indexing will be on the basis of 0-10000\n",
        "# vocabulary size is an hyperparameter concept."
      ],
      "metadata": {
        "id": "jUVVh_hB0-W3"
      },
      "execution_count": 8,
      "outputs": []
    },
    {
      "cell_type": "code",
      "source": [
        "## One hot representation\n",
        "onehot_repr = [one_hot(words,voc_size)for words in sent]\n",
        "print(onehot_repr)"
      ],
      "metadata": {
        "colab": {
          "base_uri": "https://localhost:8080/"
        },
        "id": "MHw5jSjA1IVs",
        "outputId": "f7b24dbd-d30d-4a3d-f6d8-f02fcb869290"
      },
      "execution_count": 9,
      "outputs": [
        {
          "output_type": "stream",
          "name": "stdout",
          "text": [
            "[[394, 1334, 3163, 2769], [394, 1334, 3163, 655], [394, 460, 3163, 9208], [6488, 3327, 2408, 6996, 5738], [6488, 3327, 2408, 6996, 3231], [1189, 394, 3820, 3163, 2916], [5135, 2887, 756, 6996]]\n"
          ]
        }
      ]
    },
    {
      "cell_type": "code",
      "source": [
        "## WORD EMBEDDINGS REPRESENTATION"
      ],
      "metadata": {
        "id": "gCzlgSGh16p8"
      },
      "execution_count": 10,
      "outputs": []
    },
    {
      "cell_type": "code",
      "source": [
        "from tensorflow.keras.layers import Embedding\n",
        "from tensorflow.keras.preprocessing.sequence import pad_sequences\n",
        "from tensorflow.keras.models import Sequential"
      ],
      "metadata": {
        "id": "WxpiggWr2Fes"
      },
      "execution_count": 11,
      "outputs": []
    },
    {
      "cell_type": "markdown",
      "source": [
        "Sequential is used to make sequential neural network."
      ],
      "metadata": {
        "id": "aq_hEIWl4KEM"
      }
    },
    {
      "cell_type": "code",
      "source": [
        "import numpy as np"
      ],
      "metadata": {
        "id": "KMwoDf1N4Iky"
      },
      "execution_count": 12,
      "outputs": []
    },
    {
      "cell_type": "markdown",
      "source": [
        "To remove the irregularity of the **sentences** and total words of each sentences will be 8 instead of 4,4,5 or 6."
      ],
      "metadata": {
        "id": "9Om3N7CH4cvi"
      }
    },
    {
      "cell_type": "code",
      "source": [
        "## pre padding\n",
        "sent_length=8\n",
        "embedded_docs=pad_sequences(onehot_repr,padding='pre',maxlen=sent_length)\n",
        "print(embedded_docs)\n",
        "# if we use post padding in it then zeros will be added at last of it."
      ],
      "metadata": {
        "colab": {
          "base_uri": "https://localhost:8080/"
        },
        "id": "gvj3uEVC4YSx",
        "outputId": "2e935a33-9780-45f8-d6b6-eb5f6e75b36d"
      },
      "execution_count": 13,
      "outputs": [
        {
          "output_type": "stream",
          "name": "stdout",
          "text": [
            "[[   0    0    0    0  394 1334 3163 2769]\n",
            " [   0    0    0    0  394 1334 3163  655]\n",
            " [   0    0    0    0  394  460 3163 9208]\n",
            " [   0    0    0 6488 3327 2408 6996 5738]\n",
            " [   0    0    0 6488 3327 2408 6996 3231]\n",
            " [   0    0    0 1189  394 3820 3163 2916]\n",
            " [   0    0    0    0 5135 2887  756 6996]]\n"
          ]
        }
      ]
    },
    {
      "cell_type": "code",
      "source": [
        "dim = 10"
      ],
      "metadata": {
        "id": "MshijdsT5LCw"
      },
      "execution_count": 14,
      "outputs": []
    },
    {
      "cell_type": "code",
      "source": [
        "model = Sequential()"
      ],
      "metadata": {
        "id": "wOnHrAOU5YjN"
      },
      "execution_count": 15,
      "outputs": []
    },
    {
      "cell_type": "code",
      "source": [
        "model.add(Embedding(voc_size,10,input_length=sent_length))\n",
        "model.compile('adam','mse')"
      ],
      "metadata": {
        "id": "gzIJwuQO50Wi"
      },
      "execution_count": 16,
      "outputs": []
    },
    {
      "cell_type": "code",
      "source": [
        "model.summary()"
      ],
      "metadata": {
        "colab": {
          "base_uri": "https://localhost:8080/"
        },
        "id": "0KUPoELF57_Y",
        "outputId": "fd405449-b90f-44f6-df5d-fc5b9a36eeb1"
      },
      "execution_count": 17,
      "outputs": [
        {
          "output_type": "stream",
          "name": "stdout",
          "text": [
            "Model: \"sequential\"\n",
            "_________________________________________________________________\n",
            " Layer (type)                Output Shape              Param #   \n",
            "=================================================================\n",
            " embedding (Embedding)       (None, 8, 10)             100000    \n",
            "                                                                 \n",
            "=================================================================\n",
            "Total params: 100,000\n",
            "Trainable params: 100,000\n",
            "Non-trainable params: 0\n",
            "_________________________________________________________________\n"
          ]
        }
      ]
    },
    {
      "cell_type": "code",
      "source": [
        "print(model.predict(embedded_docs))"
      ],
      "metadata": {
        "colab": {
          "base_uri": "https://localhost:8080/"
        },
        "id": "_sllAaq46YZY",
        "outputId": "b2bdb8df-0a70-45d7-c2ee-8350ec1a0d53"
      },
      "execution_count": 18,
      "outputs": [
        {
          "output_type": "stream",
          "name": "stdout",
          "text": [
            "1/1 [==============================] - 0s 205ms/step\n",
            "[[[-0.04094691 -0.00209328 -0.03047901 -0.03375046 -0.00066106\n",
            "    0.03532714 -0.03548086 -0.03707945  0.00679304 -0.03024639]\n",
            "  [-0.04094691 -0.00209328 -0.03047901 -0.03375046 -0.00066106\n",
            "    0.03532714 -0.03548086 -0.03707945  0.00679304 -0.03024639]\n",
            "  [-0.04094691 -0.00209328 -0.03047901 -0.03375046 -0.00066106\n",
            "    0.03532714 -0.03548086 -0.03707945  0.00679304 -0.03024639]\n",
            "  [-0.04094691 -0.00209328 -0.03047901 -0.03375046 -0.00066106\n",
            "    0.03532714 -0.03548086 -0.03707945  0.00679304 -0.03024639]\n",
            "  [ 0.03242021  0.03095933  0.01243879  0.0174659  -0.0041251\n",
            "   -0.0242137   0.00383852  0.01998873 -0.04857939 -0.04366657]\n",
            "  [-0.0446892   0.01575695  0.03245834  0.03516755 -0.02477717\n",
            "    0.01313641  0.03656801 -0.02373437  0.02383473 -0.02673056]\n",
            "  [-0.03347973  0.04629921 -0.04164935 -0.00657924  0.04840363\n",
            "   -0.01843208 -0.03150578 -0.01092448 -0.04722684 -0.024786  ]\n",
            "  [ 0.02293015  0.01575952 -0.01852841 -0.00612431  0.00510364\n",
            "    0.04599282 -0.00473879 -0.0044883  -0.00632919  0.02098035]]\n",
            "\n",
            " [[-0.04094691 -0.00209328 -0.03047901 -0.03375046 -0.00066106\n",
            "    0.03532714 -0.03548086 -0.03707945  0.00679304 -0.03024639]\n",
            "  [-0.04094691 -0.00209328 -0.03047901 -0.03375046 -0.00066106\n",
            "    0.03532714 -0.03548086 -0.03707945  0.00679304 -0.03024639]\n",
            "  [-0.04094691 -0.00209328 -0.03047901 -0.03375046 -0.00066106\n",
            "    0.03532714 -0.03548086 -0.03707945  0.00679304 -0.03024639]\n",
            "  [-0.04094691 -0.00209328 -0.03047901 -0.03375046 -0.00066106\n",
            "    0.03532714 -0.03548086 -0.03707945  0.00679304 -0.03024639]\n",
            "  [ 0.03242021  0.03095933  0.01243879  0.0174659  -0.0041251\n",
            "   -0.0242137   0.00383852  0.01998873 -0.04857939 -0.04366657]\n",
            "  [-0.0446892   0.01575695  0.03245834  0.03516755 -0.02477717\n",
            "    0.01313641  0.03656801 -0.02373437  0.02383473 -0.02673056]\n",
            "  [-0.03347973  0.04629921 -0.04164935 -0.00657924  0.04840363\n",
            "   -0.01843208 -0.03150578 -0.01092448 -0.04722684 -0.024786  ]\n",
            "  [-0.03319339 -0.02437681  0.04690448  0.03459438 -0.0216143\n",
            "   -0.00344694 -0.00236441  0.0026682   0.01939931 -0.01836798]]\n",
            "\n",
            " [[-0.04094691 -0.00209328 -0.03047901 -0.03375046 -0.00066106\n",
            "    0.03532714 -0.03548086 -0.03707945  0.00679304 -0.03024639]\n",
            "  [-0.04094691 -0.00209328 -0.03047901 -0.03375046 -0.00066106\n",
            "    0.03532714 -0.03548086 -0.03707945  0.00679304 -0.03024639]\n",
            "  [-0.04094691 -0.00209328 -0.03047901 -0.03375046 -0.00066106\n",
            "    0.03532714 -0.03548086 -0.03707945  0.00679304 -0.03024639]\n",
            "  [-0.04094691 -0.00209328 -0.03047901 -0.03375046 -0.00066106\n",
            "    0.03532714 -0.03548086 -0.03707945  0.00679304 -0.03024639]\n",
            "  [ 0.03242021  0.03095933  0.01243879  0.0174659  -0.0041251\n",
            "   -0.0242137   0.00383852  0.01998873 -0.04857939 -0.04366657]\n",
            "  [ 0.03056799 -0.04819043  0.04757953  0.02159089 -0.04789383\n",
            "    0.00120146 -0.03818369  0.03533784 -0.01484691 -0.01098081]\n",
            "  [-0.03347973  0.04629921 -0.04164935 -0.00657924  0.04840363\n",
            "   -0.01843208 -0.03150578 -0.01092448 -0.04722684 -0.024786  ]\n",
            "  [-0.02315831  0.02413866 -0.03133164  0.04276237  0.03405939\n",
            "   -0.01776775  0.02154857  0.04808283 -0.02915606 -0.04327673]]\n",
            "\n",
            " [[-0.04094691 -0.00209328 -0.03047901 -0.03375046 -0.00066106\n",
            "    0.03532714 -0.03548086 -0.03707945  0.00679304 -0.03024639]\n",
            "  [-0.04094691 -0.00209328 -0.03047901 -0.03375046 -0.00066106\n",
            "    0.03532714 -0.03548086 -0.03707945  0.00679304 -0.03024639]\n",
            "  [-0.04094691 -0.00209328 -0.03047901 -0.03375046 -0.00066106\n",
            "    0.03532714 -0.03548086 -0.03707945  0.00679304 -0.03024639]\n",
            "  [ 0.04556533 -0.02114688 -0.04372132  0.04729522  0.01967598\n",
            "    0.0398191  -0.0469971   0.00279242 -0.01390821  0.01167624]\n",
            "  [-0.03964604 -0.02172093 -0.03770969 -0.03593421 -0.01647924\n",
            "   -0.00211481 -0.01129955 -0.01736444 -0.01556023 -0.03839129]\n",
            "  [ 0.02046695 -0.03654779 -0.04475111 -0.03908541  0.04818678\n",
            "    0.00376667  0.02819295  0.03414514  0.04203141  0.01707417]\n",
            "  [ 0.01710442 -0.00239646  0.04844233  0.03321159 -0.03181212\n",
            "   -0.0131575   0.01799906  0.02748057  0.01763633  0.03815   ]\n",
            "  [-0.03587975  0.02202565 -0.04279449 -0.03907071  0.01113658\n",
            "   -0.01965359  0.0159436   0.03598083  0.04059914  0.01697128]]\n",
            "\n",
            " [[-0.04094691 -0.00209328 -0.03047901 -0.03375046 -0.00066106\n",
            "    0.03532714 -0.03548086 -0.03707945  0.00679304 -0.03024639]\n",
            "  [-0.04094691 -0.00209328 -0.03047901 -0.03375046 -0.00066106\n",
            "    0.03532714 -0.03548086 -0.03707945  0.00679304 -0.03024639]\n",
            "  [-0.04094691 -0.00209328 -0.03047901 -0.03375046 -0.00066106\n",
            "    0.03532714 -0.03548086 -0.03707945  0.00679304 -0.03024639]\n",
            "  [ 0.04556533 -0.02114688 -0.04372132  0.04729522  0.01967598\n",
            "    0.0398191  -0.0469971   0.00279242 -0.01390821  0.01167624]\n",
            "  [-0.03964604 -0.02172093 -0.03770969 -0.03593421 -0.01647924\n",
            "   -0.00211481 -0.01129955 -0.01736444 -0.01556023 -0.03839129]\n",
            "  [ 0.02046695 -0.03654779 -0.04475111 -0.03908541  0.04818678\n",
            "    0.00376667  0.02819295  0.03414514  0.04203141  0.01707417]\n",
            "  [ 0.01710442 -0.00239646  0.04844233  0.03321159 -0.03181212\n",
            "   -0.0131575   0.01799906  0.02748057  0.01763633  0.03815   ]\n",
            "  [-0.00455085 -0.02198061 -0.04928565 -0.0409873  -0.0218058\n",
            "   -0.02933134 -0.04274958  0.00546823 -0.00804368 -0.00276613]]\n",
            "\n",
            " [[-0.04094691 -0.00209328 -0.03047901 -0.03375046 -0.00066106\n",
            "    0.03532714 -0.03548086 -0.03707945  0.00679304 -0.03024639]\n",
            "  [-0.04094691 -0.00209328 -0.03047901 -0.03375046 -0.00066106\n",
            "    0.03532714 -0.03548086 -0.03707945  0.00679304 -0.03024639]\n",
            "  [-0.04094691 -0.00209328 -0.03047901 -0.03375046 -0.00066106\n",
            "    0.03532714 -0.03548086 -0.03707945  0.00679304 -0.03024639]\n",
            "  [-0.04891462 -0.0268319  -0.00707536 -0.04700791  0.02167472\n",
            "   -0.0415249   0.04263448 -0.02353944 -0.01619501  0.02834102]\n",
            "  [ 0.03242021  0.03095933  0.01243879  0.0174659  -0.0041251\n",
            "   -0.0242137   0.00383852  0.01998873 -0.04857939 -0.04366657]\n",
            "  [ 0.03799969 -0.0387376  -0.00989016 -0.03963894  0.01662275\n",
            "    0.0461827   0.01270482 -0.01850192 -0.00356321 -0.01736557]\n",
            "  [-0.03347973  0.04629921 -0.04164935 -0.00657924  0.04840363\n",
            "   -0.01843208 -0.03150578 -0.01092448 -0.04722684 -0.024786  ]\n",
            "  [ 0.01026322  0.04794404 -0.01081813 -0.04150798 -0.02912705\n",
            "   -0.02144972 -0.04302496  0.04726574  0.01129345  0.00199205]]\n",
            "\n",
            " [[-0.04094691 -0.00209328 -0.03047901 -0.03375046 -0.00066106\n",
            "    0.03532714 -0.03548086 -0.03707945  0.00679304 -0.03024639]\n",
            "  [-0.04094691 -0.00209328 -0.03047901 -0.03375046 -0.00066106\n",
            "    0.03532714 -0.03548086 -0.03707945  0.00679304 -0.03024639]\n",
            "  [-0.04094691 -0.00209328 -0.03047901 -0.03375046 -0.00066106\n",
            "    0.03532714 -0.03548086 -0.03707945  0.00679304 -0.03024639]\n",
            "  [-0.04094691 -0.00209328 -0.03047901 -0.03375046 -0.00066106\n",
            "    0.03532714 -0.03548086 -0.03707945  0.00679304 -0.03024639]\n",
            "  [ 0.04593214 -0.03169875  0.01287935 -0.01266768  0.02348715\n",
            "   -0.04026899 -0.01708988  0.04526425 -0.00215835  0.02729911]\n",
            "  [-0.03556608 -0.00991376  0.0016612  -0.02257552 -0.0274554\n",
            "    0.0221612  -0.03588017  0.03179722 -0.01394401 -0.01508796]\n",
            "  [ 0.02269388  0.00442357 -0.03199207  0.0356595  -0.03805308\n",
            "    0.02899224  0.03053531  0.00323942  0.02823311 -0.03106548]\n",
            "  [ 0.01710442 -0.00239646  0.04844233  0.03321159 -0.03181212\n",
            "   -0.0131575   0.01799906  0.02748057  0.01763633  0.03815   ]]]\n"
          ]
        }
      ]
    },
    {
      "cell_type": "code",
      "source": [
        "##'the glass of milk',\n",
        "embedded_docs[0]"
      ],
      "metadata": {
        "colab": {
          "base_uri": "https://localhost:8080/"
        },
        "id": "R9CS0zN26hdf",
        "outputId": "dc51e6d6-f36c-444c-cd30-978c059cbfaa"
      },
      "execution_count": 19,
      "outputs": [
        {
          "output_type": "execute_result",
          "data": {
            "text/plain": [
              "array([   0,    0,    0,    0,  394, 1334, 3163, 2769], dtype=int32)"
            ]
          },
          "metadata": {},
          "execution_count": 19
        }
      ]
    },
    {
      "cell_type": "code",
      "source": [],
      "metadata": {
        "id": "he29-egN6sVW"
      },
      "execution_count": null,
      "outputs": []
    }
  ]
}